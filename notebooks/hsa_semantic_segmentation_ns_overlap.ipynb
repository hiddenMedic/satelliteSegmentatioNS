{
  "nbformat": 4,
  "nbformat_minor": 0,
  "metadata": {
    "colab": {
      "provenance": [],
      "gpuType": "T4"
    },
    "kernelspec": {
      "name": "python3",
      "display_name": "Python 3"
    },
    "language_info": {
      "name": "python"
    },
    "accelerator": "GPU"
  },
  "cells": [
    {
      "cell_type": "code",
      "source": [
        "from google.colab import drive\n",
        "drive.mount('/content/gdrive')"
      ],
      "metadata": {
        "colab": {
          "base_uri": "https://localhost:8080/"
        },
        "id": "o5fyYM94J4lt",
        "outputId": "5a70c299-c41c-45dd-d928-c9b5eadba797"
      },
      "execution_count": null,
      "outputs": [
        {
          "output_type": "stream",
          "name": "stdout",
          "text": [
            "Mounted at /content/gdrive\n"
          ]
        }
      ]
    },
    {
      "cell_type": "code",
      "execution_count": null,
      "metadata": {
        "colab": {
          "base_uri": "https://localhost:8080/"
        },
        "id": "qEt7XIRYIgQR",
        "outputId": "d5391969-4d87-4aa1-a28d-2017607c3a9e"
      },
      "outputs": [
        {
          "output_type": "stream",
          "name": "stdout",
          "text": [
            "Archive:  gdrive/MyDrive/xy3.zip\n",
            "replace xy3/ovp_x_slo.npy? [y]es, [n]o, [A]ll, [N]one, [r]ename: A\n",
            "  inflating: xy3/ovp_x_slo.npy       \n",
            "  inflating: xy3/ovp_y_slo.npy       \n"
          ]
        }
      ],
      "source": [
        "!unzip gdrive/MyDrive/xy3.zip -d xy3"
      ]
    },
    {
      "cell_type": "code",
      "source": [
        "import tensorflow as tf\n",
        "import numpy as np\n",
        "from sklearn.model_selection import train_test_split\n",
        "from keras.models import Sequential \n",
        "from keras.layers import Input, Conv2DTranspose, concatenate, Dense, Dropout, Flatten, Conv2D, MaxPooling2D, BatchNormalization\n",
        "from tensorflow.keras import layers\n",
        "import matplotlib.pyplot as plt\n",
        "from tensorflow import keras\n",
        "\n",
        "IMAGE_SIZE = 100\n",
        "BATCH_SIZE = 32\n",
        "N_CLASSES = 9\n",
        "\n",
        "_x = np.load(\"xy/ovp_x_slo.npy\")\n",
        "_y = np.load(\"xy/ovp_y_slo.npy\")\n",
        "print(_x.shape, _y.shape)\n",
        "                                                                        \n",
        "x_train, x_test, y_train, y_test = train_test_split(_x, _y, shuffle=True, random_state=6, test_size=0.2)\n",
        "print(x_train.shape, x_test.shape, y_train.shape, y_test.shape)\n",
        "\n",
        "def build_unet(input_shape, num_classes):\n",
        "    # Input layer\n",
        "    inputs = Input(input_shape)\n",
        "\n",
        "    # Contracting path (downsampling)\n",
        "    conv1 = Conv2D(64, 3, activation='relu', padding='same')(inputs)\n",
        "    conv1 = Conv2D(64, 3, activation='relu', padding='same')(conv1)\n",
        "    pool1 = MaxPooling2D(pool_size=(2, 2))(conv1)\n",
        "\n",
        "    conv2 = Conv2D(128, 3, activation='relu', padding='same')(pool1)\n",
        "    conv2 = Conv2D(128, 3, activation='relu', padding='same')(conv2)\n",
        "    pool2 = MaxPooling2D(pool_size=(2, 2))(conv2)\n",
        "\n",
        "    # Bottom layer\n",
        "    conv3 = Conv2D(256, 3, activation='relu', padding='same')(pool2)\n",
        "    conv3 = Conv2D(256, 3, activation='relu', padding='same')(conv3)\n",
        "\n",
        "    # Expanding path (upsampling)\n",
        "    up4 = Conv2DTranspose(128, 2, strides=(2, 2), padding='same')(conv3)\n",
        "    up4 = concatenate([up4, conv2], axis=3)\n",
        "    conv4 = Conv2D(128, 3, activation='relu', padding='same')(up4)\n",
        "    conv4 = Conv2D(128, 3, activation='relu', padding='same')(conv4)\n",
        "\n",
        "    up5 = Conv2DTranspose(64, 2, strides=(2, 2), padding='same')(conv4)\n",
        "    up5 = concatenate([up5, conv1], axis=3)\n",
        "    conv5 = Conv2D(64, 3, activation='relu', padding='same')(up5)\n",
        "    conv5 = Conv2D(64, 3, activation='relu', padding='same')(conv5)\n",
        "\n",
        "    # Output layer\n",
        "    output = Conv2D(num_classes, 1, activation='softmax')(conv5)\n",
        "\n",
        "    model = tf.keras.Model(inputs=inputs, outputs=output)\n",
        "\n",
        "    return model\n",
        "\n",
        "model = build_unet(x_train.shape[1:], N_CLASSES)\n",
        "model.compile(optimizer='adam', loss='categorical_crossentropy', metrics=['accuracy'])\n",
        "\n",
        "model.summary()\n",
        "history = model.fit(x_train, y_train, epochs=60,\n",
        "                    validation_data=(x_test, y_test), batch_size=BATCH_SIZE)\n",
        "\n",
        "#plot the training and validation accuracy and loss at each epoch\n",
        "loss = history.history['loss']\n",
        "val_loss = history.history['val_loss']\n",
        "epochs = range(1, len(loss) + 1)\n",
        "plt.plot(epochs, loss, 'y', label='Training loss')\n",
        "plt.plot(epochs, val_loss, 'r', label='Validation loss')\n",
        "plt.title('Training and validation loss')\n",
        "plt.xlabel('Epochs')\n",
        "plt.ylabel('Loss')\n",
        "plt.legend()\n",
        "plt.show()\n",
        "\n",
        "\n",
        "acc = history.history['accuracy']\n",
        "val_acc = history.history['val_accuracy']\n",
        "plt.plot(epochs, acc, 'y', label='Training acc')\n",
        "plt.plot(epochs, val_acc, 'r', label='Validation acc')\n",
        "plt.title('Training and validation accuracy')\n",
        "plt.xlabel('Epochs')\n",
        "plt.ylabel('Accuracy')\n",
        "plt.legend()\n",
        "plt.show()\n",
        "\n",
        "_, acc = model.evaluate(x_test, y_test)\n",
        "print(\"Accuracy = \", (acc * 100.0), \"%\")"
      ],
      "metadata": {
        "colab": {
          "base_uri": "https://localhost:8080/",
          "height": 1000
        },
        "id": "908djyKpdxBQ",
        "outputId": "ccf7c3c7-6ae7-4208-a7aa-bbb178f352ed"
      },
      "execution_count": null,
      "outputs": [
        {
          "output_type": "stream",
          "name": "stdout",
          "text": [
            "(900, 100, 100, 13) (900, 100, 100, 9)\n",
            "(720, 100, 100, 13) (180, 100, 100, 13) (720, 100, 100, 9) (180, 100, 100, 9)\n",
            "Model: \"model_8\"\n",
            "__________________________________________________________________________________________________\n",
            " Layer (type)                   Output Shape         Param #     Connected to                     \n",
            "==================================================================================================\n",
            " input_9 (InputLayer)           [(None, 100, 100, 1  0           []                               \n",
            "                                3)]                                                               \n",
            "                                                                                                  \n",
            " conv2d_88 (Conv2D)             (None, 100, 100, 64  7552        ['input_9[0][0]']                \n",
            "                                )                                                                 \n",
            "                                                                                                  \n",
            " conv2d_89 (Conv2D)             (None, 100, 100, 64  36928       ['conv2d_88[0][0]']              \n",
            "                                )                                                                 \n",
            "                                                                                                  \n",
            " max_pooling2d_16 (MaxPooling2D  (None, 50, 50, 64)  0           ['conv2d_89[0][0]']              \n",
            " )                                                                                                \n",
            "                                                                                                  \n",
            " conv2d_90 (Conv2D)             (None, 50, 50, 128)  73856       ['max_pooling2d_16[0][0]']       \n",
            "                                                                                                  \n",
            " conv2d_91 (Conv2D)             (None, 50, 50, 128)  147584      ['conv2d_90[0][0]']              \n",
            "                                                                                                  \n",
            " max_pooling2d_17 (MaxPooling2D  (None, 25, 25, 128)  0          ['conv2d_91[0][0]']              \n",
            " )                                                                                                \n",
            "                                                                                                  \n",
            " conv2d_92 (Conv2D)             (None, 25, 25, 256)  295168      ['max_pooling2d_17[0][0]']       \n",
            "                                                                                                  \n",
            " conv2d_93 (Conv2D)             (None, 25, 25, 256)  590080      ['conv2d_92[0][0]']              \n",
            "                                                                                                  \n",
            " conv2d_transpose_16 (Conv2DTra  (None, 50, 50, 128)  131200     ['conv2d_93[0][0]']              \n",
            " nspose)                                                                                          \n",
            "                                                                                                  \n",
            " concatenate_16 (Concatenate)   (None, 50, 50, 256)  0           ['conv2d_transpose_16[0][0]',    \n",
            "                                                                  'conv2d_91[0][0]']              \n",
            "                                                                                                  \n",
            " conv2d_94 (Conv2D)             (None, 50, 50, 128)  295040      ['concatenate_16[0][0]']         \n",
            "                                                                                                  \n",
            " conv2d_95 (Conv2D)             (None, 50, 50, 128)  147584      ['conv2d_94[0][0]']              \n",
            "                                                                                                  \n",
            " conv2d_transpose_17 (Conv2DTra  (None, 100, 100, 64  32832      ['conv2d_95[0][0]']              \n",
            " nspose)                        )                                                                 \n",
            "                                                                                                  \n",
            " concatenate_17 (Concatenate)   (None, 100, 100, 12  0           ['conv2d_transpose_17[0][0]',    \n",
            "                                8)                                'conv2d_89[0][0]']              \n",
            "                                                                                                  \n",
            " conv2d_96 (Conv2D)             (None, 100, 100, 64  73792       ['concatenate_17[0][0]']         \n",
            "                                )                                                                 \n",
            "                                                                                                  \n",
            " conv2d_97 (Conv2D)             (None, 100, 100, 64  36928       ['conv2d_96[0][0]']              \n",
            "                                )                                                                 \n",
            "                                                                                                  \n",
            " conv2d_98 (Conv2D)             (None, 100, 100, 9)  585         ['conv2d_97[0][0]']              \n",
            "                                                                                                  \n",
            "==================================================================================================\n",
            "Total params: 1,869,129\n",
            "Trainable params: 1,869,129\n",
            "Non-trainable params: 0\n",
            "__________________________________________________________________________________________________\n",
            "Epoch 1/60\n",
            "23/23 [==============================] - 10s 209ms/step - loss: 83.6933 - accuracy: 0.3760 - val_loss: 5.6538 - val_accuracy: 0.5148\n",
            "Epoch 2/60\n",
            "23/23 [==============================] - 4s 170ms/step - loss: 3.7706 - accuracy: 0.5151 - val_loss: 2.5766 - val_accuracy: 0.5056\n",
            "Epoch 3/60\n",
            "23/23 [==============================] - 4s 186ms/step - loss: 1.9381 - accuracy: 0.5502 - val_loss: 1.4986 - val_accuracy: 0.5690\n",
            "Epoch 4/60\n",
            "23/23 [==============================] - 4s 173ms/step - loss: 1.4130 - accuracy: 0.5803 - val_loss: 1.2969 - val_accuracy: 0.5799\n",
            "Epoch 5/60\n",
            "23/23 [==============================] - 4s 171ms/step - loss: 1.1361 - accuracy: 0.6282 - val_loss: 1.1007 - val_accuracy: 0.6283\n",
            "Epoch 6/60\n",
            "23/23 [==============================] - 4s 186ms/step - loss: 1.0117 - accuracy: 0.6605 - val_loss: 0.9542 - val_accuracy: 0.6712\n",
            "Epoch 7/60\n",
            "23/23 [==============================] - 4s 189ms/step - loss: 0.9187 - accuracy: 0.6840 - val_loss: 0.9308 - val_accuracy: 0.6699\n",
            "Epoch 8/60\n",
            "23/23 [==============================] - 4s 186ms/step - loss: 0.8728 - accuracy: 0.6985 - val_loss: 0.8448 - val_accuracy: 0.7036\n",
            "Epoch 9/60\n",
            "23/23 [==============================] - 4s 187ms/step - loss: 0.8418 - accuracy: 0.7089 - val_loss: 0.8639 - val_accuracy: 0.6912\n",
            "Epoch 10/60\n",
            "23/23 [==============================] - 4s 189ms/step - loss: 0.7988 - accuracy: 0.7218 - val_loss: 0.7977 - val_accuracy: 0.7207\n",
            "Epoch 11/60\n",
            "23/23 [==============================] - 4s 188ms/step - loss: 0.8136 - accuracy: 0.7139 - val_loss: 0.7969 - val_accuracy: 0.7191\n",
            "Epoch 12/60\n",
            "23/23 [==============================] - 4s 188ms/step - loss: 0.7702 - accuracy: 0.7290 - val_loss: 0.9687 - val_accuracy: 0.6651\n",
            "Epoch 13/60\n",
            "23/23 [==============================] - 4s 191ms/step - loss: 0.7880 - accuracy: 0.7205 - val_loss: 0.7624 - val_accuracy: 0.7313\n",
            "Epoch 14/60\n",
            "23/23 [==============================] - 4s 175ms/step - loss: 0.7292 - accuracy: 0.7433 - val_loss: 0.7263 - val_accuracy: 0.7495\n",
            "Epoch 15/60\n",
            "23/23 [==============================] - 4s 189ms/step - loss: 0.7055 - accuracy: 0.7517 - val_loss: 0.7066 - val_accuracy: 0.7551\n",
            "Epoch 16/60\n",
            "23/23 [==============================] - 4s 180ms/step - loss: 0.7673 - accuracy: 0.7304 - val_loss: 1.1388 - val_accuracy: 0.6425\n",
            "Epoch 17/60\n",
            "23/23 [==============================] - 4s 176ms/step - loss: 0.8604 - accuracy: 0.6922 - val_loss: 0.7725 - val_accuracy: 0.7325\n",
            "Epoch 18/60\n",
            "23/23 [==============================] - 4s 191ms/step - loss: 0.7198 - accuracy: 0.7466 - val_loss: 0.6987 - val_accuracy: 0.7517\n",
            "Epoch 19/60\n",
            "23/23 [==============================] - 4s 193ms/step - loss: 0.6730 - accuracy: 0.7621 - val_loss: 0.7475 - val_accuracy: 0.7455\n",
            "Epoch 20/60\n",
            "23/23 [==============================] - 4s 192ms/step - loss: 0.6817 - accuracy: 0.7596 - val_loss: 0.7001 - val_accuracy: 0.7520\n",
            "Epoch 21/60\n",
            "23/23 [==============================] - 4s 179ms/step - loss: 0.6463 - accuracy: 0.7701 - val_loss: 0.6574 - val_accuracy: 0.7638\n",
            "Epoch 22/60\n",
            "23/23 [==============================] - 4s 194ms/step - loss: 0.6280 - accuracy: 0.7774 - val_loss: 0.6398 - val_accuracy: 0.7705\n",
            "Epoch 23/60\n",
            "23/23 [==============================] - 4s 192ms/step - loss: 0.6378 - accuracy: 0.7720 - val_loss: 0.6710 - val_accuracy: 0.7649\n",
            "Epoch 24/60\n",
            "23/23 [==============================] - 4s 191ms/step - loss: 0.6204 - accuracy: 0.7795 - val_loss: 0.6174 - val_accuracy: 0.7802\n",
            "Epoch 25/60\n",
            "23/23 [==============================] - 4s 193ms/step - loss: 0.6189 - accuracy: 0.7788 - val_loss: 0.6283 - val_accuracy: 0.7736\n",
            "Epoch 26/60\n",
            "23/23 [==============================] - 4s 180ms/step - loss: 0.6077 - accuracy: 0.7816 - val_loss: 0.6185 - val_accuracy: 0.7776\n",
            "Epoch 27/60\n",
            "23/23 [==============================] - 4s 192ms/step - loss: 0.6395 - accuracy: 0.7712 - val_loss: 0.9971 - val_accuracy: 0.6591\n",
            "Epoch 28/60\n",
            "23/23 [==============================] - 4s 179ms/step - loss: 1.1350 - accuracy: 0.6165 - val_loss: 0.8949 - val_accuracy: 0.6794\n",
            "Epoch 29/60\n",
            "23/23 [==============================] - 4s 180ms/step - loss: 0.8066 - accuracy: 0.7098 - val_loss: 0.7642 - val_accuracy: 0.7267\n",
            "Epoch 30/60\n",
            "23/23 [==============================] - 4s 193ms/step - loss: 0.7085 - accuracy: 0.7487 - val_loss: 0.6996 - val_accuracy: 0.7517\n",
            "Epoch 31/60\n",
            "23/23 [==============================] - 4s 180ms/step - loss: 0.6786 - accuracy: 0.7601 - val_loss: 0.6735 - val_accuracy: 0.7637\n",
            "Epoch 32/60\n",
            "23/23 [==============================] - 4s 183ms/step - loss: 0.6445 - accuracy: 0.7727 - val_loss: 0.6590 - val_accuracy: 0.7647\n",
            "Epoch 33/60\n",
            "23/23 [==============================] - 4s 194ms/step - loss: 0.6361 - accuracy: 0.7750 - val_loss: 0.6699 - val_accuracy: 0.7682\n",
            "Epoch 34/60\n",
            "23/23 [==============================] - 4s 182ms/step - loss: 0.6515 - accuracy: 0.7680 - val_loss: 0.6692 - val_accuracy: 0.7647\n",
            "Epoch 35/60\n",
            "23/23 [==============================] - 4s 185ms/step - loss: 0.6396 - accuracy: 0.7739 - val_loss: 0.6484 - val_accuracy: 0.7730\n",
            "Epoch 36/60\n",
            "23/23 [==============================] - 4s 194ms/step - loss: 0.6223 - accuracy: 0.7788 - val_loss: 0.6526 - val_accuracy: 0.7661\n",
            "Epoch 37/60\n",
            "23/23 [==============================] - 4s 182ms/step - loss: 0.6050 - accuracy: 0.7851 - val_loss: 0.6112 - val_accuracy: 0.7849\n",
            "Epoch 38/60\n",
            "23/23 [==============================] - 4s 197ms/step - loss: 0.5989 - accuracy: 0.7867 - val_loss: 0.6022 - val_accuracy: 0.7862\n",
            "Epoch 39/60\n",
            "23/23 [==============================] - 4s 195ms/step - loss: 0.6684 - accuracy: 0.7698 - val_loss: 1.4359 - val_accuracy: 0.5207\n",
            "Epoch 40/60\n",
            "23/23 [==============================] - 4s 181ms/step - loss: 0.8117 - accuracy: 0.7071 - val_loss: 0.6974 - val_accuracy: 0.7552\n",
            "Epoch 41/60\n",
            "23/23 [==============================] - 4s 182ms/step - loss: 0.6782 - accuracy: 0.7607 - val_loss: 0.7053 - val_accuracy: 0.7518\n",
            "Epoch 42/60\n",
            "23/23 [==============================] - 4s 180ms/step - loss: 0.6504 - accuracy: 0.7713 - val_loss: 0.6417 - val_accuracy: 0.7749\n",
            "Epoch 43/60\n",
            "23/23 [==============================] - 4s 179ms/step - loss: 0.6165 - accuracy: 0.7824 - val_loss: 0.6220 - val_accuracy: 0.7808\n",
            "Epoch 44/60\n",
            "23/23 [==============================] - 4s 194ms/step - loss: 0.6013 - accuracy: 0.7881 - val_loss: 0.6107 - val_accuracy: 0.7857\n",
            "Epoch 45/60\n",
            "23/23 [==============================] - 4s 180ms/step - loss: 0.5973 - accuracy: 0.7886 - val_loss: 0.6027 - val_accuracy: 0.7867\n",
            "Epoch 46/60\n",
            "23/23 [==============================] - 4s 179ms/step - loss: 0.5869 - accuracy: 0.7918 - val_loss: 0.6646 - val_accuracy: 0.7665\n",
            "Epoch 47/60\n",
            "23/23 [==============================] - 4s 181ms/step - loss: 0.5932 - accuracy: 0.7891 - val_loss: 0.5924 - val_accuracy: 0.7937\n",
            "Epoch 48/60\n",
            "23/23 [==============================] - 4s 195ms/step - loss: 0.5675 - accuracy: 0.7993 - val_loss: 0.5872 - val_accuracy: 0.7912\n",
            "Epoch 49/60\n",
            "23/23 [==============================] - 4s 194ms/step - loss: 0.5617 - accuracy: 0.8007 - val_loss: 0.5893 - val_accuracy: 0.7910\n",
            "Epoch 50/60\n",
            "23/23 [==============================] - 4s 181ms/step - loss: 0.5619 - accuracy: 0.8008 - val_loss: 0.5647 - val_accuracy: 0.8012\n",
            "Epoch 51/60\n",
            "23/23 [==============================] - 4s 195ms/step - loss: 0.5512 - accuracy: 0.8039 - val_loss: 0.5724 - val_accuracy: 0.7982\n",
            "Epoch 52/60\n",
            "23/23 [==============================] - 4s 194ms/step - loss: 0.5429 - accuracy: 0.8067 - val_loss: 0.5792 - val_accuracy: 0.7978\n",
            "Epoch 53/60\n",
            "23/23 [==============================] - 4s 194ms/step - loss: 0.5404 - accuracy: 0.8073 - val_loss: 0.5712 - val_accuracy: 0.7938\n",
            "Epoch 54/60\n",
            "23/23 [==============================] - 4s 184ms/step - loss: 0.5468 - accuracy: 0.8049 - val_loss: 0.5490 - val_accuracy: 0.8061\n",
            "Epoch 55/60\n",
            "23/23 [==============================] - 4s 181ms/step - loss: 0.5212 - accuracy: 0.8140 - val_loss: 0.5449 - val_accuracy: 0.8070\n",
            "Epoch 56/60\n",
            "23/23 [==============================] - 4s 181ms/step - loss: 0.5139 - accuracy: 0.8165 - val_loss: 0.5398 - val_accuracy: 0.8065\n",
            "Epoch 57/60\n",
            "23/23 [==============================] - 5s 197ms/step - loss: 0.5238 - accuracy: 0.8130 - val_loss: 0.5395 - val_accuracy: 0.8081\n",
            "Epoch 58/60\n",
            "23/23 [==============================] - 4s 181ms/step - loss: 0.5062 - accuracy: 0.8192 - val_loss: 0.5414 - val_accuracy: 0.8062\n",
            "Epoch 59/60\n",
            "23/23 [==============================] - 4s 182ms/step - loss: 0.5053 - accuracy: 0.8195 - val_loss: 0.5493 - val_accuracy: 0.8042\n",
            "Epoch 60/60\n",
            "23/23 [==============================] - 4s 197ms/step - loss: 0.5067 - accuracy: 0.8190 - val_loss: 0.5262 - val_accuracy: 0.8125\n"
          ]
        },
        {
          "output_type": "display_data",
          "data": {
            "text/plain": [
              "<Figure size 640x480 with 1 Axes>"
            ],
            "image/png": "[encoded data removed]"
          },
          "metadata": {}
        },
        {
          "output_type": "display_data",
          "data": {
            "text/plain": [
              "<Figure size 640x480 with 1 Axes>"
            ],
            "image/png": "[encoded data removed]"
          },
          "metadata": {}
        },
        {
          "output_type": "stream",
          "name": "stdout",
          "text": [
            "6/6 [==============================] - 0s 62ms/step - loss: 0.5262 - accuracy: 0.8125\n",
            "Accuracy =  81.24516606330872 %\n"
          ]
        }
      ]
    },
    {
      "cell_type": "code",
      "source": [
        "y_pred = model.predict(x_test)\n",
        "flat_y_pred = []\n",
        "flat_y_test = []\n",
        "for (it1, it2) in zip(y_pred, y_test):\n",
        "  for (i1, i2) in zip(it1, it2):\n",
        "    for (j1, j2) in zip(i1, i2):\n",
        "      flat_y_pred.append(np.argmax(j1))\n",
        "      flat_y_test.append(np.argmax(j2))\n",
        "flat_y_pred = np.array(flat_y_pred)\n",
        "flat_y_test = np.array(flat_y_test)\n",
        "print(flat_y_pred.shape, flat_y_test.shape)"
      ],
      "metadata": {
        "colab": {
          "base_uri": "https://localhost:8080/"
        },
        "id": "zGvRfwOq5WV5",
        "outputId": "3b20f79f-fab1-484a-97b2-fd0635912658"
      },
      "execution_count": null,
      "outputs": [
        {
          "output_type": "stream",
          "name": "stdout",
          "text": [
            "6/6 [==============================] - 1s 65ms/step\n",
            "(1800000,) (1800000,)\n"
          ]
        }
      ]
    },
    {
      "cell_type": "code",
      "source": [
        "print(y_pred.shape, y_test.shape)"
      ],
      "metadata": {
        "colab": {
          "base_uri": "https://localhost:8080/",
          "height": 169
        },
        "id": "RTGODgdn_q1j",
        "outputId": "a00af796-10a4-437b-c647-5431054501df"
      },
      "execution_count": 1,
      "outputs": [
        {
          "output_type": "error",
          "ename": "NameError",
          "evalue": "ignored",
          "traceback": [
            "\u001b[0;31m---------------------------------------------------------------------------\u001b[0m",
            "\u001b[0;31mNameError\u001b[0m                                 Traceback (most recent call last)",
            "\u001b[0;32m<ipython-input-1-fa0c99b30ddd>\u001b[0m in \u001b[0;36m<cell line: 1>\u001b[0;34m()\u001b[0m\n\u001b[0;32m----> 1\u001b[0;31m \u001b[0mprint\u001b[0m\u001b[0;34m(\u001b[0m\u001b[0my_pred\u001b[0m\u001b[0;34m.\u001b[0m\u001b[0mshape\u001b[0m\u001b[0;34m,\u001b[0m \u001b[0my_test\u001b[0m\u001b[0;34m.\u001b[0m\u001b[0mshape\u001b[0m\u001b[0;34m)\u001b[0m\u001b[0;34m\u001b[0m\u001b[0;34m\u001b[0m\u001b[0m\n\u001b[0m",
            "\u001b[0;31mNameError\u001b[0m: name 'y_pred' is not defined"
          ]
        }
      ]
    },
    {
      "cell_type": "code",
      "source": [
        "from sklearn.metrics import confusion_matrix\n",
        "\n",
        "cm = confusion_matrix(flat_y_test, flat_y_pred)\n",
        "print(cm)"
      ],
      "metadata": {
        "colab": {
          "base_uri": "https://localhost:8080/"
        },
        "id": "fr3hE2zx8015",
        "outputId": "a13027db-0a92-4d56-85b4-bf2357083fcc"
      },
      "execution_count": null,
      "outputs": [
        {
          "output_type": "stream",
          "name": "stdout",
          "text": [
            "[[617312     72    631      0      0   1852  11410   2231      5]\n",
            " [   592   5081    728     13      1   1173   2193   1514      5]\n",
            " [  8350    217   4149      3      0   2528  12024   7409      7]\n",
            " [    71      5      2     27      0      2     26     12      2]\n",
            " [     0      0      0      0      0      0      0      0      0]\n",
            " [  7317    111    407      0      0 195154  22727  25999     52]\n",
            " [ 22073     93   1066      1      0  17638 341489  65702     25]\n",
            " [  5970    114    433      0      0  13667  90552 299132     22]\n",
            " [   933     21     65      0      0   3154   3751   2616     69]]\n"
          ]
        }
      ]
    },
    {
      "cell_type": "code",
      "source": [
        "from sklearn.metrics import classification_report\n",
        "\n",
        "cr = classification_report(flat_y_test, flat_y_pred)\n",
        "print(cr)"
      ],
      "metadata": {
        "colab": {
          "base_uri": "https://localhost:8080/"
        },
        "id": "CJNO96fm81EL",
        "outputId": "7712c9de-3700-4ae4-b03e-f45ee6318c45"
      },
      "execution_count": null,
      "outputs": [
        {
          "output_type": "stream",
          "name": "stderr",
          "text": [
            "/usr/local/lib/python3.10/dist-packages/sklearn/metrics/_classification.py:1344: UndefinedMetricWarning: Recall and F-score are ill-defined and being set to 0.0 in labels with no true samples. Use `zero_division` parameter to control this behavior.\n",
            "  _warn_prf(average, modifier, msg_start, len(result))\n",
            "/usr/local/lib/python3.10/dist-packages/sklearn/metrics/_classification.py:1344: UndefinedMetricWarning: Recall and F-score are ill-defined and being set to 0.0 in labels with no true samples. Use `zero_division` parameter to control this behavior.\n",
            "  _warn_prf(average, modifier, msg_start, len(result))\n"
          ]
        },
        {
          "output_type": "stream",
          "name": "stdout",
          "text": [
            "              precision    recall  f1-score   support\n",
            "\n",
            "           0       0.93      0.97      0.95    633513\n",
            "           1       0.89      0.45      0.60     11300\n",
            "           2       0.55      0.12      0.20     34687\n",
            "           3       0.61      0.18      0.28       147\n",
            "           4       0.00      0.00      0.00         0\n",
            "           5       0.83      0.78      0.80    251767\n",
            "           6       0.71      0.76      0.73    448087\n",
            "           7       0.74      0.73      0.73    409890\n",
            "           8       0.37      0.01      0.01     10609\n",
            "\n",
            "    accuracy                           0.81   1800000\n",
            "   macro avg       0.63      0.44      0.48   1800000\n",
            "weighted avg       0.81      0.81      0.80   1800000\n",
            "\n"
          ]
        },
        {
          "output_type": "stream",
          "name": "stderr",
          "text": [
            "/usr/local/lib/python3.10/dist-packages/sklearn/metrics/_classification.py:1344: UndefinedMetricWarning: Recall and F-score are ill-defined and being set to 0.0 in labels with no true samples. Use `zero_division` parameter to control this behavior.\n",
            "  _warn_prf(average, modifier, msg_start, len(result))\n"
          ]
        }
      ]
    },
    {
      "cell_type": "code",
      "source": [
        "model.save(\"the_model\")"
      ],
      "metadata": {
        "colab": {
          "base_uri": "https://localhost:8080/"
        },
        "id": "bgpRqiVRen8J",
        "outputId": "46657963-3abb-484c-8b7a-6f7d22d15c4a"
      },
      "execution_count": null,
      "outputs": [
        {
          "output_type": "stream",
          "name": "stderr",
          "text": [
            "WARNING:absl:Found untraced functions such as _jit_compiled_convolution_op, _jit_compiled_convolution_op, _jit_compiled_convolution_op, _jit_compiled_convolution_op, _jit_compiled_convolution_op while saving (showing 5 of 13). These functions will not be directly callable after loading.\n"
          ]
        }
      ]
    },
    {
      "cell_type": "code",
      "source": [
        "!zip -r the_model.zip the_model"
      ],
      "metadata": {
        "colab": {
          "base_uri": "https://localhost:8080/"
        },
        "id": "Q2mgHoyrtpkM",
        "outputId": "0f2cdbfd-728b-4411-d8f0-5e7f56e39de4"
      },
      "execution_count": null,
      "outputs": [
        {
          "output_type": "stream",
          "name": "stdout",
          "text": [
            "updating: the_model/ (stored 0%)\n",
            "updating: the_model/assets/ (stored 0%)\n",
            "updating: the_model/saved_model.pb (deflated 90%)\n",
            "updating: the_model/fingerprint.pb (stored 0%)\n",
            "updating: the_model/variables/ (stored 0%)\n",
            "updating: the_model/variables/variables.index (deflated 71%)\n",
            "updating: the_model/variables/variables.data-00000-of-00001 (deflated 6%)\n",
            "updating: the_model/keras_metadata.pb (deflated 94%)\n"
          ]
        }
      ]
    },
    {
      "cell_type": "code",
      "source": [
        "from google.colab import files\n",
        "files.download(\"/content/the_model.zip\")"
      ],
      "metadata": {
        "colab": {
          "base_uri": "https://localhost:8080/",
          "height": 17
        },
        "id": "tNOZIczhtxQ5",
        "outputId": "90ddfa9c-664e-43a7-c2b2-f597692b6bb0"
      },
      "execution_count": null,
      "outputs": [
        {
          "output_type": "display_data",
          "data": {
            "text/plain": [
              "<IPython.core.display.Javascript object>"
            ],
            "application/javascript": [
              "\n",
              "    async function download(id, filename, size) {\n",
              "      if (!google.colab.kernel.accessAllowed) {\n",
              "        return;\n",
              "      }\n",
              "      const div = document.createElement('div');\n",
              "      const label = document.createElement('label');\n",
              "      label.textContent = `Downloading \"${filename}\": `;\n",
              "      div.appendChild(label);\n",
              "      const progress = document.createElement('progress');\n",
              "      progress.max = size;\n",
              "      div.appendChild(progress);\n",
              "      document.body.appendChild(div);\n",
              "\n",
              "      const buffers = [];\n",
              "      let downloaded = 0;\n",
              "\n",
              "      const channel = await google.colab.kernel.comms.open(id);\n",
              "      // Send a message to notify the kernel that we're ready.\n",
              "      channel.send({})\n",
              "\n",
              "      for await (const message of channel.messages) {\n",
              "        // Send a message to notify the kernel that we're ready.\n",
              "        channel.send({})\n",
              "        if (message.buffers) {\n",
              "          for (const buffer of message.buffers) {\n",
              "            buffers.push(buffer);\n",
              "            downloaded += buffer.byteLength;\n",
              "            progress.value = downloaded;\n",
              "          }\n",
              "        }\n",
              "      }\n",
              "      const blob = new Blob(buffers, {type: 'application/binary'});\n",
              "      const a = document.createElement('a');\n",
              "      a.href = window.URL.createObjectURL(blob);\n",
              "      a.download = filename;\n",
              "      div.appendChild(a);\n",
              "      a.click();\n",
              "      div.remove();\n",
              "    }\n",
              "  "
            ]
          },
          "metadata": {}
        },
        {
          "output_type": "display_data",
          "data": {
            "text/plain": [
              "<IPython.core.display.Javascript object>"
            ],
            "application/javascript": [
              "download(\"download_2a4343a1-0bf7-446c-91a6-e4587ff47958\", \"the_model.zip\", 21105295)"
            ]
          },
          "metadata": {}
        }
      ]
    }
  ]
}