{
  "nbformat": 4,
  "nbformat_minor": 0,
  "metadata": {
    "colab": {
      "provenance": [],
      "gpuType": "T4"
    },
    "kernelspec": {
      "name": "python3",
      "display_name": "Python 3"
    },
    "language_info": {
      "name": "python"
    },
    "accelerator": "GPU"
  },
  "cells": [
    {
      "cell_type": "code",
      "source": [
        "from google.colab import drive\n",
        "drive.mount('/content/gdrive')"
      ],
      "metadata": {
        "colab": {
          "base_uri": "https://localhost:8080/"
        },
        "id": "o5fyYM94J4lt",
        "outputId": "0ec20005-52bf-419a-830a-f8879076a2a9"
      },
      "execution_count": null,
      "outputs": [
        {
          "output_type": "stream",
          "name": "stdout",
          "text": [
            "Mounted at /content/gdrive\n"
          ]
        }
      ]
    },
    {
      "cell_type": "code",
      "execution_count": null,
      "metadata": {
        "colab": {
          "base_uri": "https://localhost:8080/"
        },
        "id": "qEt7XIRYIgQR",
        "outputId": "6f9fbc57-af6f-41be-ee44-92665a7c0fc8"
      },
      "outputs": [
        {
          "output_type": "stream",
          "name": "stdout",
          "text": [
            "Archive:  gdrive/MyDrive/aug_xy.zip\n",
            "  inflating: aug_xy/aug_y_slo.npy    \n",
            "  inflating: aug_xy/aug_x_slo.npy    \n"
          ]
        }
      ],
      "source": [
        "!unzip gdrive/MyDrive/aug_xy.zip -d aug_xy"
      ]
    },
    {
      "cell_type": "code",
      "source": [
        "import tensorflow as tf\n",
        "import numpy as np\n",
        "from sklearn.model_selection import train_test_split\n",
        "from keras.models import Sequential \n",
        "from keras.layers import Input, Conv2DTranspose, concatenate, Dense, Dropout, Flatten, Conv2D, MaxPooling2D, BatchNormalization\n",
        "from tensorflow.keras import layers\n",
        "import matplotlib.pyplot as plt\n",
        "from tensorflow import keras\n",
        "\n",
        "IMAGE_SIZE = 100\n",
        "BATCH_SIZE = 32\n",
        "N_CLASSES = 9\n",
        "\n",
        "_x = np.load(\"aug_xy/aug_x_slo.npy\")\n",
        "_y = np.load(\"aug_xy/aug_y_slo.npy\")\n",
        "print(_x.shape, _y.shape)\n",
        "                                                                        \n",
        "x_train, x_test, y_train, y_test = train_test_split(_x, _y, shuffle=True, random_state=6, test_size=0.2)\n",
        "print(x_train.shape, x_test.shape, y_train.shape, y_test.shape)\n",
        "\n",
        "def build_unet(input_shape, num_classes):\n",
        "    # Input layer\n",
        "    inputs = Input(input_shape)\n",
        "\n",
        "    # Contracting path (downsampling)\n",
        "    conv1 = Conv2D(64, 3, activation='relu', padding='same')(inputs)\n",
        "    conv1 = Conv2D(64, 3, activation='relu', padding='same')(conv1)\n",
        "    pool1 = MaxPooling2D(pool_size=(2, 2))(conv1)\n",
        "\n",
        "    conv2 = Conv2D(128, 3, activation='relu', padding='same')(pool1)\n",
        "    conv2 = Conv2D(128, 3, activation='relu', padding='same')(conv2)\n",
        "    pool2 = MaxPooling2D(pool_size=(2, 2))(conv2)\n",
        "\n",
        "    # Bottom layer\n",
        "    conv3 = Conv2D(256, 3, activation='relu', padding='same')(pool2)\n",
        "    conv3 = Conv2D(256, 3, activation='relu', padding='same')(conv3)\n",
        "\n",
        "    # Expanding path (upsampling)\n",
        "    up4 = Conv2DTranspose(128, 2, strides=(2, 2), padding='same')(conv3)\n",
        "    up4 = concatenate([up4, conv2], axis=3)\n",
        "    conv4 = Conv2D(128, 3, activation='relu', padding='same')(up4)\n",
        "    conv4 = Conv2D(128, 3, activation='relu', padding='same')(conv4)\n",
        "\n",
        "    up5 = Conv2DTranspose(64, 2, strides=(2, 2), padding='same')(conv4)\n",
        "    up5 = concatenate([up5, conv1], axis=3)\n",
        "    conv5 = Conv2D(64, 3, activation='relu', padding='same')(up5)\n",
        "    conv5 = Conv2D(64, 3, activation='relu', padding='same')(conv5)\n",
        "\n",
        "    # Output layer\n",
        "    output = Conv2D(num_classes, 1, activation='softmax')(conv5)\n",
        "\n",
        "    model = tf.keras.Model(inputs=inputs, outputs=output)\n",
        "\n",
        "    return model\n",
        "\n",
        "model = build_unet(x_train.shape[1:], N_CLASSES)\n",
        "model.compile(optimizer='adam', loss='categorical_crossentropy', metrics=['accuracy'])\n",
        "\n",
        "model.summary()\n",
        "history = model.fit(x_train, y_train, epochs=160,\n",
        "                    validation_data=(x_test, y_test), batch_size=BATCH_SIZE)\n",
        "\n",
        "#plot the training and validation accuracy and loss at each epoch\n",
        "loss = history.history['loss']\n",
        "val_loss = history.history['val_loss']\n",
        "epochs = range(1, len(loss) + 1)\n",
        "plt.plot(epochs, loss, 'y', label='Training loss')\n",
        "plt.plot(epochs, val_loss, 'r', label='Validation loss')\n",
        "plt.title('Training and validation loss')\n",
        "plt.xlabel('Epochs')\n",
        "plt.ylabel('Loss')\n",
        "plt.legend()\n",
        "plt.show()\n",
        "\n",
        "\n",
        "acc = history.history['accuracy']\n",
        "val_acc = history.history['val_accuracy']\n",
        "plt.plot(epochs, acc, 'y', label='Training acc')\n",
        "plt.plot(epochs, val_acc, 'r', label='Validation acc')\n",
        "plt.title('Training and validation accuracy')\n",
        "plt.xlabel('Epochs')\n",
        "plt.ylabel('Accuracy')\n",
        "plt.legend()\n",
        "plt.show()\n",
        "\n",
        "_, acc = model.evaluate(x_test, y_test)\n",
        "print(\"Accuracy = \", (acc * 100.0), \"%\")"
      ],
      "metadata": {
        "colab": {
          "base_uri": "https://localhost:8080/",
          "height": 1000
        },
        "id": "908djyKpdxBQ",
        "outputId": "5d0b1766-5b65-42b6-925e-14375142a29e"
      },
      "execution_count": null,
      "outputs": [
        {
          "output_type": "stream",
          "name": "stdout",
          "text": [
            "(2700, 100, 100, 13) (2700, 100, 100, 9)\n",
            "(2160, 100, 100, 13) (540, 100, 100, 13) (2160, 100, 100, 9) (540, 100, 100, 9)\n",
            "Model: \"model\"\n",
            "__________________________________________________________________________________________________\n",
            " Layer (type)                   Output Shape         Param #     Connected to                     \n",
            "==================================================================================================\n",
            " input_1 (InputLayer)           [(None, 100, 100, 1  0           []                               \n",
            "                                3)]                                                               \n",
            "                                                                                                  \n",
            " conv2d (Conv2D)                (None, 100, 100, 64  7552        ['input_1[0][0]']                \n",
            "                                )                                                                 \n",
            "                                                                                                  \n",
            " conv2d_1 (Conv2D)              (None, 100, 100, 64  36928       ['conv2d[0][0]']                 \n",
            "                                )                                                                 \n",
            "                                                                                                  \n",
            " max_pooling2d (MaxPooling2D)   (None, 50, 50, 64)   0           ['conv2d_1[0][0]']               \n",
            "                                                                                                  \n",
            " conv2d_2 (Conv2D)              (None, 50, 50, 128)  73856       ['max_pooling2d[0][0]']          \n",
            "                                                                                                  \n",
            " conv2d_3 (Conv2D)              (None, 50, 50, 128)  147584      ['conv2d_2[0][0]']               \n",
            "                                                                                                  \n",
            " max_pooling2d_1 (MaxPooling2D)  (None, 25, 25, 128)  0          ['conv2d_3[0][0]']               \n",
            "                                                                                                  \n",
            " conv2d_4 (Conv2D)              (None, 25, 25, 256)  295168      ['max_pooling2d_1[0][0]']        \n",
            "                                                                                                  \n",
            " conv2d_5 (Conv2D)              (None, 25, 25, 256)  590080      ['conv2d_4[0][0]']               \n",
            "                                                                                                  \n",
            " conv2d_transpose (Conv2DTransp  (None, 50, 50, 128)  131200     ['conv2d_5[0][0]']               \n",
            " ose)                                                                                             \n",
            "                                                                                                  \n",
            " concatenate (Concatenate)      (None, 50, 50, 256)  0           ['conv2d_transpose[0][0]',       \n",
            "                                                                  'conv2d_3[0][0]']               \n",
            "                                                                                                  \n",
            " conv2d_6 (Conv2D)              (None, 50, 50, 128)  295040      ['concatenate[0][0]']            \n",
            "                                                                                                  \n",
            " conv2d_7 (Conv2D)              (None, 50, 50, 128)  147584      ['conv2d_6[0][0]']               \n",
            "                                                                                                  \n",
            " conv2d_transpose_1 (Conv2DTran  (None, 100, 100, 64  32832      ['conv2d_7[0][0]']               \n",
            " spose)                         )                                                                 \n",
            "                                                                                                  \n",
            " concatenate_1 (Concatenate)    (None, 100, 100, 12  0           ['conv2d_transpose_1[0][0]',     \n",
            "                                8)                                'conv2d_1[0][0]']               \n",
            "                                                                                                  \n",
            " conv2d_8 (Conv2D)              (None, 100, 100, 64  73792       ['concatenate_1[0][0]']          \n",
            "                                )                                                                 \n",
            "                                                                                                  \n",
            " conv2d_9 (Conv2D)              (None, 100, 100, 64  36928       ['conv2d_8[0][0]']               \n",
            "                                )                                                                 \n",
            "                                                                                                  \n",
            " conv2d_10 (Conv2D)             (None, 100, 100, 9)  585         ['conv2d_9[0][0]']               \n",
            "                                                                                                  \n",
            "==================================================================================================\n",
            "Total params: 1,869,129\n",
            "Trainable params: 1,869,129\n",
            "Non-trainable params: 0\n",
            "__________________________________________________________________________________________________\n",
            "Epoch 1/160\n",
            "68/68 [==============================] - 39s 256ms/step - loss: 25.6553 - accuracy: 0.4450 - val_loss: 1.5898 - val_accuracy: 0.5748\n",
            "Epoch 2/160\n",
            "68/68 [==============================] - 13s 186ms/step - loss: 1.1880 - accuracy: 0.6278 - val_loss: 0.9281 - val_accuracy: 0.6795\n",
            "Epoch 3/160\n",
            "68/68 [==============================] - 13s 189ms/step - loss: 0.8777 - accuracy: 0.6932 - val_loss: 0.8552 - val_accuracy: 0.6830\n",
            "Epoch 4/160\n",
            "68/68 [==============================] - 12s 184ms/step - loss: 0.8065 - accuracy: 0.7116 - val_loss: 0.7846 - val_accuracy: 0.7046\n",
            "Epoch 5/160\n",
            "68/68 [==============================] - 13s 187ms/step - loss: 0.8412 - accuracy: 0.6974 - val_loss: 0.7536 - val_accuracy: 0.7208\n",
            "Epoch 6/160\n",
            "68/68 [==============================] - 12s 181ms/step - loss: 0.7057 - accuracy: 0.7478 - val_loss: 0.6861 - val_accuracy: 0.7584\n",
            "Epoch 7/160\n",
            "68/68 [==============================] - 12s 181ms/step - loss: 0.6847 - accuracy: 0.7558 - val_loss: 0.6832 - val_accuracy: 0.7590\n",
            "Epoch 8/160\n",
            "68/68 [==============================] - 13s 187ms/step - loss: 0.6572 - accuracy: 0.7657 - val_loss: 0.6555 - val_accuracy: 0.7701\n",
            "Epoch 9/160\n",
            "68/68 [==============================] - 12s 183ms/step - loss: 0.6410 - accuracy: 0.7710 - val_loss: 0.6268 - val_accuracy: 0.7760\n",
            "Epoch 10/160\n",
            "68/68 [==============================] - 12s 183ms/step - loss: 0.7495 - accuracy: 0.7298 - val_loss: 0.8267 - val_accuracy: 0.6953\n",
            "Epoch 11/160\n",
            "68/68 [==============================] - 12s 183ms/step - loss: 0.7424 - accuracy: 0.7327 - val_loss: 0.6797 - val_accuracy: 0.7593\n",
            "Epoch 12/160\n",
            "68/68 [==============================] - 12s 182ms/step - loss: 0.6667 - accuracy: 0.7628 - val_loss: 0.7540 - val_accuracy: 0.7368\n",
            "Epoch 13/160\n",
            "68/68 [==============================] - 13s 186ms/step - loss: 0.6984 - accuracy: 0.7512 - val_loss: 0.6474 - val_accuracy: 0.7673\n",
            "Epoch 14/160\n",
            "68/68 [==============================] - 12s 182ms/step - loss: 0.6194 - accuracy: 0.7792 - val_loss: 0.6061 - val_accuracy: 0.7855\n",
            "Epoch 15/160\n",
            "68/68 [==============================] - 12s 180ms/step - loss: 0.6103 - accuracy: 0.7815 - val_loss: 0.6168 - val_accuracy: 0.7806\n",
            "Epoch 16/160\n",
            "68/68 [==============================] - 12s 181ms/step - loss: 0.6003 - accuracy: 0.7851 - val_loss: 0.5992 - val_accuracy: 0.7870\n",
            "Epoch 17/160\n",
            "68/68 [==============================] - 13s 186ms/step - loss: 0.5906 - accuracy: 0.7880 - val_loss: 0.5863 - val_accuracy: 0.7923\n",
            "Epoch 18/160\n",
            "68/68 [==============================] - 12s 181ms/step - loss: 0.5875 - accuracy: 0.7891 - val_loss: 0.6016 - val_accuracy: 0.7864\n",
            "Epoch 19/160\n",
            "68/68 [==============================] - 13s 186ms/step - loss: 0.5767 - accuracy: 0.7926 - val_loss: 0.5664 - val_accuracy: 0.7975\n",
            "Epoch 20/160\n",
            "68/68 [==============================] - 12s 181ms/step - loss: 1.4885 - accuracy: 0.5376 - val_loss: 1.3954 - val_accuracy: 0.4732\n",
            "Epoch 21/160\n",
            "68/68 [==============================] - 12s 179ms/step - loss: 1.5358 - accuracy: 0.4230 - val_loss: 1.5977 - val_accuracy: 0.2153\n",
            "Epoch 22/160\n",
            "68/68 [==============================] - 12s 177ms/step - loss: 1.4608 - accuracy: 0.3505 - val_loss: 1.4401 - val_accuracy: 0.3702\n",
            "Epoch 23/160\n",
            "68/68 [==============================] - 12s 183ms/step - loss: 1.4156 - accuracy: 0.3741 - val_loss: 1.3861 - val_accuracy: 0.3673\n",
            "Epoch 24/160\n",
            "68/68 [==============================] - 12s 178ms/step - loss: 1.3701 - accuracy: 0.3934 - val_loss: 1.3429 - val_accuracy: 0.4245\n",
            "Epoch 25/160\n",
            "68/68 [==============================] - 12s 179ms/step - loss: 1.3238 - accuracy: 0.4327 - val_loss: 1.3014 - val_accuracy: 0.4444\n",
            "Epoch 26/160\n",
            "68/68 [==============================] - 12s 179ms/step - loss: 1.2939 - accuracy: 0.4513 - val_loss: 1.2800 - val_accuracy: 0.4582\n",
            "Epoch 27/160\n",
            "68/68 [==============================] - 13s 184ms/step - loss: 1.2716 - accuracy: 0.4644 - val_loss: 1.2636 - val_accuracy: 0.4687\n",
            "Epoch 28/160\n",
            "68/68 [==============================] - 12s 179ms/step - loss: 1.2633 - accuracy: 0.4720 - val_loss: 1.2422 - val_accuracy: 0.4847\n",
            "Epoch 29/160\n",
            "68/68 [==============================] - 13s 186ms/step - loss: 1.2561 - accuracy: 0.4761 - val_loss: 1.2719 - val_accuracy: 0.4738\n",
            "Epoch 30/160\n",
            "68/68 [==============================] - 12s 184ms/step - loss: 1.2422 - accuracy: 0.4812 - val_loss: 1.2350 - val_accuracy: 0.4872\n",
            "Epoch 31/160\n",
            "68/68 [==============================] - 12s 183ms/step - loss: 1.2380 - accuracy: 0.4828 - val_loss: 1.2288 - val_accuracy: 0.4892\n",
            "Epoch 32/160\n",
            "68/68 [==============================] - 12s 180ms/step - loss: 1.2408 - accuracy: 0.4856 - val_loss: 1.2317 - val_accuracy: 0.4885\n",
            "Epoch 33/160\n",
            "68/68 [==============================] - 13s 184ms/step - loss: 1.2263 - accuracy: 0.4914 - val_loss: 1.2385 - val_accuracy: 0.4866\n",
            "Epoch 34/160\n",
            "68/68 [==============================] - 12s 180ms/step - loss: 1.2212 - accuracy: 0.4948 - val_loss: 1.2289 - val_accuracy: 0.4923\n",
            "Epoch 35/160\n",
            "68/68 [==============================] - 12s 180ms/step - loss: 1.2184 - accuracy: 0.4964 - val_loss: 1.2093 - val_accuracy: 0.5029\n",
            "Epoch 36/160\n",
            "68/68 [==============================] - 12s 179ms/step - loss: 1.2130 - accuracy: 0.5013 - val_loss: 1.2100 - val_accuracy: 0.5013\n",
            "Epoch 37/160\n",
            "68/68 [==============================] - 12s 181ms/step - loss: 1.2202 - accuracy: 0.4989 - val_loss: 1.2139 - val_accuracy: 0.5021\n",
            "Epoch 38/160\n",
            "68/68 [==============================] - 12s 184ms/step - loss: 1.2079 - accuracy: 0.5063 - val_loss: 1.2169 - val_accuracy: 0.5005\n",
            "Epoch 39/160\n",
            "68/68 [==============================] - 12s 179ms/step - loss: 1.2040 - accuracy: 0.5089 - val_loss: 1.2044 - val_accuracy: 0.5073\n",
            "Epoch 40/160\n",
            "68/68 [==============================] - 12s 184ms/step - loss: 1.2002 - accuracy: 0.5105 - val_loss: 1.1927 - val_accuracy: 0.5134\n",
            "Epoch 41/160\n",
            "68/68 [==============================] - 12s 180ms/step - loss: 1.1941 - accuracy: 0.5142 - val_loss: 1.1912 - val_accuracy: 0.5139\n",
            "Epoch 42/160\n",
            "68/68 [==============================] - 12s 179ms/step - loss: 1.1944 - accuracy: 0.5136 - val_loss: 1.2034 - val_accuracy: 0.5109\n",
            "Epoch 43/160\n",
            "68/68 [==============================] - 13s 185ms/step - loss: 1.1845 - accuracy: 0.5192 - val_loss: 1.1902 - val_accuracy: 0.5122\n",
            "Epoch 44/160\n",
            "68/68 [==============================] - 13s 186ms/step - loss: 1.1799 - accuracy: 0.5210 - val_loss: 1.1837 - val_accuracy: 0.5177\n",
            "Epoch 45/160\n",
            "68/68 [==============================] - 12s 180ms/step - loss: 1.1878 - accuracy: 0.5174 - val_loss: 1.2059 - val_accuracy: 0.5085\n",
            "Epoch 46/160\n",
            "68/68 [==============================] - 12s 180ms/step - loss: 1.1930 - accuracy: 0.5151 - val_loss: 1.1793 - val_accuracy: 0.5202\n",
            "Epoch 47/160\n",
            "68/68 [==============================] - 12s 180ms/step - loss: 1.1771 - accuracy: 0.5219 - val_loss: 1.1882 - val_accuracy: 0.5156\n",
            "Epoch 48/160\n",
            "68/68 [==============================] - 12s 179ms/step - loss: 1.1750 - accuracy: 0.5236 - val_loss: 1.1743 - val_accuracy: 0.5245\n",
            "Epoch 49/160\n",
            "68/68 [==============================] - 12s 179ms/step - loss: 1.2031 - accuracy: 0.5096 - val_loss: 1.1944 - val_accuracy: 0.5124\n",
            "Epoch 50/160\n",
            "68/68 [==============================] - 12s 180ms/step - loss: 1.1784 - accuracy: 0.5220 - val_loss: 1.1730 - val_accuracy: 0.5243\n",
            "Epoch 51/160\n",
            "68/68 [==============================] - 12s 180ms/step - loss: 1.1678 - accuracy: 0.5262 - val_loss: 1.1703 - val_accuracy: 0.5250\n",
            "Epoch 52/160\n",
            "68/68 [==============================] - 13s 185ms/step - loss: 1.1746 - accuracy: 0.5233 - val_loss: 1.1838 - val_accuracy: 0.5192\n",
            "Epoch 53/160\n",
            "68/68 [==============================] - 12s 179ms/step - loss: 1.1660 - accuracy: 0.5280 - val_loss: 1.1627 - val_accuracy: 0.5309\n",
            "Epoch 54/160\n",
            "68/68 [==============================] - 12s 180ms/step - loss: 1.1637 - accuracy: 0.5286 - val_loss: 1.1810 - val_accuracy: 0.5203\n",
            "Epoch 55/160\n",
            "68/68 [==============================] - 12s 180ms/step - loss: 1.1627 - accuracy: 0.5291 - val_loss: 1.1728 - val_accuracy: 0.5236\n",
            "Epoch 56/160\n",
            "68/68 [==============================] - 12s 178ms/step - loss: 1.1565 - accuracy: 0.5316 - val_loss: 1.1678 - val_accuracy: 0.5259\n",
            "Epoch 57/160\n",
            "68/68 [==============================] - 12s 179ms/step - loss: 1.1574 - accuracy: 0.5313 - val_loss: 1.1739 - val_accuracy: 0.5231\n",
            "Epoch 58/160\n",
            "68/68 [==============================] - 12s 179ms/step - loss: 1.1553 - accuracy: 0.5315 - val_loss: 1.1835 - val_accuracy: 0.5210\n",
            "Epoch 59/160\n",
            "68/68 [==============================] - 13s 188ms/step - loss: 1.1507 - accuracy: 0.5342 - val_loss: 1.1745 - val_accuracy: 0.5233\n",
            "Epoch 60/160\n",
            "68/68 [==============================] - 13s 186ms/step - loss: 1.1567 - accuracy: 0.5315 - val_loss: 1.1781 - val_accuracy: 0.5213\n",
            "Epoch 61/160\n",
            "68/68 [==============================] - 13s 185ms/step - loss: 1.1487 - accuracy: 0.5351 - val_loss: 1.1739 - val_accuracy: 0.5224\n",
            "Epoch 62/160\n",
            "68/68 [==============================] - 13s 185ms/step - loss: 1.1418 - accuracy: 0.5384 - val_loss: 1.1664 - val_accuracy: 0.5276\n",
            "Epoch 63/160\n",
            "68/68 [==============================] - 12s 180ms/step - loss: 1.1382 - accuracy: 0.5398 - val_loss: 1.1686 - val_accuracy: 0.5262\n",
            "Epoch 64/160\n",
            "68/68 [==============================] - 13s 184ms/step - loss: 1.1459 - accuracy: 0.5365 - val_loss: 1.1875 - val_accuracy: 0.5182\n",
            "Epoch 65/160\n",
            "68/68 [==============================] - 13s 184ms/step - loss: 1.1403 - accuracy: 0.5386 - val_loss: 1.1733 - val_accuracy: 0.5274\n",
            "Epoch 66/160\n",
            "68/68 [==============================] - 12s 184ms/step - loss: 1.1328 - accuracy: 0.5419 - val_loss: 1.1697 - val_accuracy: 0.5256\n",
            "Epoch 67/160\n",
            "68/68 [==============================] - 13s 184ms/step - loss: 1.1256 - accuracy: 0.5450 - val_loss: 1.1703 - val_accuracy: 0.5255\n",
            "Epoch 68/160\n",
            "68/68 [==============================] - 12s 179ms/step - loss: 1.1250 - accuracy: 0.5452 - val_loss: 1.1920 - val_accuracy: 0.5160\n",
            "Epoch 69/160\n",
            "68/68 [==============================] - 13s 185ms/step - loss: 1.1255 - accuracy: 0.5450 - val_loss: 1.1793 - val_accuracy: 0.5225\n",
            "Epoch 70/160\n",
            "68/68 [==============================] - 13s 185ms/step - loss: 1.1236 - accuracy: 0.5459 - val_loss: 1.1747 - val_accuracy: 0.5244\n",
            "Epoch 71/160\n",
            "68/68 [==============================] - 13s 185ms/step - loss: 1.1185 - accuracy: 0.5478 - val_loss: 1.1791 - val_accuracy: 0.5258\n",
            "Epoch 72/160\n",
            "68/68 [==============================] - 12s 180ms/step - loss: 1.1108 - accuracy: 0.5511 - val_loss: 1.1834 - val_accuracy: 0.5258\n",
            "Epoch 73/160\n",
            "68/68 [==============================] - 12s 184ms/step - loss: 1.1047 - accuracy: 0.5535 - val_loss: 1.1967 - val_accuracy: 0.5185\n",
            "Epoch 74/160\n",
            "68/68 [==============================] - 12s 181ms/step - loss: 1.1133 - accuracy: 0.5482 - val_loss: 1.1652 - val_accuracy: 0.5260\n",
            "Epoch 75/160\n",
            "68/68 [==============================] - 13s 184ms/step - loss: 1.1751 - accuracy: 0.5181 - val_loss: 1.3045 - val_accuracy: 0.4428\n",
            "Epoch 76/160\n",
            "68/68 [==============================] - 13s 184ms/step - loss: 1.2168 - accuracy: 0.4933 - val_loss: 1.1709 - val_accuracy: 0.5252\n",
            "Epoch 77/160\n",
            "68/68 [==============================] - 12s 181ms/step - loss: 1.1423 - accuracy: 0.5597 - val_loss: 1.2578 - val_accuracy: 0.5204\n",
            "Epoch 78/160\n",
            "68/68 [==============================] - 12s 181ms/step - loss: 0.9243 - accuracy: 0.6467 - val_loss: 0.8268 - val_accuracy: 0.6778\n",
            "Epoch 79/160\n",
            "68/68 [==============================] - 12s 182ms/step - loss: 0.8018 - accuracy: 0.6898 - val_loss: 0.8369 - val_accuracy: 0.6775\n",
            "Epoch 80/160\n",
            "68/68 [==============================] - 13s 186ms/step - loss: 0.7707 - accuracy: 0.7084 - val_loss: 0.7614 - val_accuracy: 0.7116\n",
            "Epoch 81/160\n",
            "68/68 [==============================] - 12s 182ms/step - loss: 0.7038 - accuracy: 0.7344 - val_loss: 0.6976 - val_accuracy: 0.7392\n",
            "Epoch 82/160\n",
            "68/68 [==============================] - 13s 186ms/step - loss: 0.7935 - accuracy: 0.6896 - val_loss: 0.7257 - val_accuracy: 0.7306\n",
            "Epoch 83/160\n",
            "68/68 [==============================] - 13s 186ms/step - loss: 0.6904 - accuracy: 0.7428 - val_loss: 0.6715 - val_accuracy: 0.7526\n",
            "Epoch 84/160\n",
            "68/68 [==============================] - 13s 186ms/step - loss: 0.6292 - accuracy: 0.7728 - val_loss: 0.6090 - val_accuracy: 0.7822\n",
            "Epoch 85/160\n",
            "68/68 [==============================] - 12s 181ms/step - loss: 0.6258 - accuracy: 0.7748 - val_loss: 0.5932 - val_accuracy: 0.7879\n",
            "Epoch 86/160\n",
            "68/68 [==============================] - 13s 186ms/step - loss: 0.5941 - accuracy: 0.7867 - val_loss: 0.5991 - val_accuracy: 0.7848\n",
            "Epoch 87/160\n",
            "68/68 [==============================] - 13s 187ms/step - loss: 0.5898 - accuracy: 0.7874 - val_loss: 0.5762 - val_accuracy: 0.7932\n",
            "Epoch 88/160\n",
            "68/68 [==============================] - 13s 186ms/step - loss: 0.5774 - accuracy: 0.7928 - val_loss: 0.5890 - val_accuracy: 0.7897\n",
            "Epoch 89/160\n",
            "68/68 [==============================] - 13s 189ms/step - loss: 0.5623 - accuracy: 0.7975 - val_loss: 0.5700 - val_accuracy: 0.7957\n",
            "Epoch 90/160\n",
            "68/68 [==============================] - 13s 187ms/step - loss: 0.5602 - accuracy: 0.7978 - val_loss: 0.5687 - val_accuracy: 0.7971\n",
            "Epoch 91/160\n",
            "68/68 [==============================] - 13s 186ms/step - loss: 0.5578 - accuracy: 0.7986 - val_loss: 0.5659 - val_accuracy: 0.7967\n",
            "Epoch 92/160\n",
            "68/68 [==============================] - 12s 182ms/step - loss: 0.5534 - accuracy: 0.8004 - val_loss: 0.5494 - val_accuracy: 0.8022\n",
            "Epoch 93/160\n",
            "68/68 [==============================] - 13s 186ms/step - loss: 0.5439 - accuracy: 0.8034 - val_loss: 0.5554 - val_accuracy: 0.8009\n",
            "Epoch 94/160\n",
            "68/68 [==============================] - 13s 186ms/step - loss: 0.5300 - accuracy: 0.8085 - val_loss: 0.5484 - val_accuracy: 0.8030\n",
            "Epoch 95/160\n",
            "68/68 [==============================] - 12s 182ms/step - loss: 0.5242 - accuracy: 0.8106 - val_loss: 0.5418 - val_accuracy: 0.8052\n",
            "Epoch 96/160\n",
            "68/68 [==============================] - 12s 181ms/step - loss: 0.9656 - accuracy: 0.7174 - val_loss: 1.5937 - val_accuracy: 0.3737\n",
            "Epoch 97/160\n",
            "68/68 [==============================] - 12s 177ms/step - loss: 2.1336 - accuracy: 0.3558 - val_loss: 1.4510 - val_accuracy: 0.3705\n",
            "Epoch 98/160\n",
            "68/68 [==============================] - 12s 177ms/step - loss: 1.4493 - accuracy: 0.3727 - val_loss: 1.4488 - val_accuracy: 0.3704\n",
            "Epoch 99/160\n",
            "68/68 [==============================] - 12s 183ms/step - loss: 1.4475 - accuracy: 0.3727 - val_loss: 1.4451 - val_accuracy: 0.3704\n",
            "Epoch 100/160\n",
            "68/68 [==============================] - 12s 182ms/step - loss: 1.4429 - accuracy: 0.3727 - val_loss: 1.4462 - val_accuracy: 0.3704\n",
            "Epoch 101/160\n",
            "68/68 [==============================] - 12s 178ms/step - loss: 1.4440 - accuracy: 0.3730 - val_loss: 1.4412 - val_accuracy: 0.3710\n",
            "Epoch 102/160\n",
            "68/68 [==============================] - 12s 182ms/step - loss: 1.4368 - accuracy: 0.3738 - val_loss: 1.4371 - val_accuracy: 0.3724\n",
            "Epoch 103/160\n",
            "68/68 [==============================] - 12s 178ms/step - loss: 1.4412 - accuracy: 0.3737 - val_loss: 1.4390 - val_accuracy: 0.3733\n",
            "Epoch 104/160\n",
            "68/68 [==============================] - 12s 184ms/step - loss: 1.4289 - accuracy: 0.3877 - val_loss: 1.4197 - val_accuracy: 0.3946\n",
            "Epoch 105/160\n",
            "68/68 [==============================] - 12s 178ms/step - loss: 1.4118 - accuracy: 0.3990 - val_loss: 1.4088 - val_accuracy: 0.3946\n",
            "Epoch 106/160\n",
            "68/68 [==============================] - 12s 178ms/step - loss: 1.4090 - accuracy: 0.4021 - val_loss: 1.4058 - val_accuracy: 0.3989\n",
            "Epoch 107/160\n",
            "68/68 [==============================] - 12s 183ms/step - loss: 1.3912 - accuracy: 0.4094 - val_loss: 1.3867 - val_accuracy: 0.4090\n",
            "Epoch 108/160\n",
            "68/68 [==============================] - 12s 179ms/step - loss: 1.3867 - accuracy: 0.4100 - val_loss: 1.3808 - val_accuracy: 0.4126\n",
            "Epoch 109/160\n",
            "68/68 [==============================] - 12s 184ms/step - loss: 1.3795 - accuracy: 0.4172 - val_loss: 1.4416 - val_accuracy: 0.4042\n",
            "Epoch 110/160\n",
            "68/68 [==============================] - 12s 184ms/step - loss: 1.4376 - accuracy: 0.3843 - val_loss: 1.3950 - val_accuracy: 0.4067\n",
            "Epoch 111/160\n",
            "68/68 [==============================] - 12s 183ms/step - loss: 1.3681 - accuracy: 0.4278 - val_loss: 1.3613 - val_accuracy: 0.4363\n",
            "Epoch 112/160\n",
            "68/68 [==============================] - 12s 183ms/step - loss: 1.3228 - accuracy: 0.4481 - val_loss: 1.3172 - val_accuracy: 0.4529\n",
            "Epoch 113/160\n",
            "68/68 [==============================] - 12s 183ms/step - loss: 1.2872 - accuracy: 0.4623 - val_loss: 1.1964 - val_accuracy: 0.5082\n",
            "Epoch 114/160\n",
            "68/68 [==============================] - 12s 180ms/step - loss: 1.1238 - accuracy: 0.5401 - val_loss: 1.0307 - val_accuracy: 0.5650\n",
            "Epoch 115/160\n",
            "68/68 [==============================] - 12s 180ms/step - loss: 1.0374 - accuracy: 0.5596 - val_loss: 1.1417 - val_accuracy: 0.5372\n",
            "Epoch 116/160\n",
            "68/68 [==============================] - 13s 184ms/step - loss: 0.9833 - accuracy: 0.5800 - val_loss: 0.9442 - val_accuracy: 0.5976\n",
            "Epoch 117/160\n",
            "68/68 [==============================] - 12s 184ms/step - loss: 0.9363 - accuracy: 0.5987 - val_loss: 0.9055 - val_accuracy: 0.6025\n",
            "Epoch 118/160\n",
            "68/68 [==============================] - 12s 179ms/step - loss: 0.8876 - accuracy: 0.6178 - val_loss: 0.9626 - val_accuracy: 0.5991\n",
            "Epoch 119/160\n",
            "68/68 [==============================] - 12s 180ms/step - loss: 0.8643 - accuracy: 0.6308 - val_loss: 0.8302 - val_accuracy: 0.6492\n",
            "Epoch 120/160\n",
            "68/68 [==============================] - 13s 186ms/step - loss: 0.8526 - accuracy: 0.6340 - val_loss: 0.8037 - val_accuracy: 0.6582\n",
            "Epoch 121/160\n",
            "68/68 [==============================] - 13s 184ms/step - loss: 0.8500 - accuracy: 0.6353 - val_loss: 0.8386 - val_accuracy: 0.6259\n",
            "Epoch 122/160\n",
            "68/68 [==============================] - 12s 184ms/step - loss: 0.7946 - accuracy: 0.6594 - val_loss: 0.8062 - val_accuracy: 0.6568\n",
            "Epoch 123/160\n",
            "68/68 [==============================] - 13s 185ms/step - loss: 0.7820 - accuracy: 0.6670 - val_loss: 0.7602 - val_accuracy: 0.6818\n",
            "Epoch 124/160\n",
            "68/68 [==============================] - 12s 180ms/step - loss: 0.7670 - accuracy: 0.6842 - val_loss: 0.7595 - val_accuracy: 0.6943\n",
            "Epoch 125/160\n",
            "68/68 [==============================] - 13s 185ms/step - loss: 0.7510 - accuracy: 0.7022 - val_loss: 0.7370 - val_accuracy: 0.7160\n",
            "Epoch 126/160\n",
            "68/68 [==============================] - 13s 185ms/step - loss: 0.7219 - accuracy: 0.7207 - val_loss: 0.7556 - val_accuracy: 0.7029\n",
            "Epoch 127/160\n",
            "68/68 [==============================] - 13s 186ms/step - loss: 0.7228 - accuracy: 0.7200 - val_loss: 0.7001 - val_accuracy: 0.7324\n",
            "Epoch 128/160\n",
            "68/68 [==============================] - 12s 180ms/step - loss: 0.6786 - accuracy: 0.7402 - val_loss: 0.6803 - val_accuracy: 0.7408\n",
            "Epoch 129/160\n",
            "68/68 [==============================] - 13s 186ms/step - loss: 0.6643 - accuracy: 0.7465 - val_loss: 0.6778 - val_accuracy: 0.7401\n",
            "Epoch 130/160\n",
            "68/68 [==============================] - 13s 186ms/step - loss: 0.6538 - accuracy: 0.7506 - val_loss: 0.6459 - val_accuracy: 0.7533\n",
            "Epoch 131/160\n",
            "68/68 [==============================] - 12s 180ms/step - loss: 0.6502 - accuracy: 0.7517 - val_loss: 0.6516 - val_accuracy: 0.7520\n",
            "Epoch 132/160\n",
            "68/68 [==============================] - 13s 185ms/step - loss: 0.6508 - accuracy: 0.7530 - val_loss: 0.6678 - val_accuracy: 0.7466\n",
            "Epoch 133/160\n",
            "68/68 [==============================] - 12s 180ms/step - loss: 0.6449 - accuracy: 0.7535 - val_loss: 0.6286 - val_accuracy: 0.7589\n",
            "Epoch 134/160\n",
            "68/68 [==============================] - 12s 181ms/step - loss: 0.6197 - accuracy: 0.7644 - val_loss: 0.6255 - val_accuracy: 0.7614\n",
            "Epoch 135/160\n",
            "68/68 [==============================] - 12s 182ms/step - loss: 0.6179 - accuracy: 0.7649 - val_loss: 0.6537 - val_accuracy: 0.7512\n",
            "Epoch 136/160\n",
            "68/68 [==============================] - 13s 185ms/step - loss: 0.6796 - accuracy: 0.7417 - val_loss: 0.6322 - val_accuracy: 0.7580\n",
            "Epoch 137/160\n",
            "68/68 [==============================] - 12s 181ms/step - loss: 0.6156 - accuracy: 0.7657 - val_loss: 0.6151 - val_accuracy: 0.7657\n",
            "Epoch 138/160\n",
            "68/68 [==============================] - 12s 181ms/step - loss: 0.5979 - accuracy: 0.7739 - val_loss: 0.6080 - val_accuracy: 0.7682\n",
            "Epoch 139/160\n",
            "68/68 [==============================] - 13s 185ms/step - loss: 0.5915 - accuracy: 0.7765 - val_loss: 0.6050 - val_accuracy: 0.7695\n",
            "Epoch 140/160\n",
            "68/68 [==============================] - 13s 184ms/step - loss: 0.5807 - accuracy: 0.7812 - val_loss: 0.6144 - val_accuracy: 0.7652\n",
            "Epoch 141/160\n",
            "68/68 [==============================] - 13s 185ms/step - loss: 0.5749 - accuracy: 0.7835 - val_loss: 0.6004 - val_accuracy: 0.7725\n",
            "Epoch 142/160\n",
            "68/68 [==============================] - 12s 180ms/step - loss: 0.5642 - accuracy: 0.7883 - val_loss: 0.6045 - val_accuracy: 0.7725\n",
            "Epoch 143/160\n",
            "68/68 [==============================] - 13s 186ms/step - loss: 0.5614 - accuracy: 0.7892 - val_loss: 0.6381 - val_accuracy: 0.7616\n",
            "Epoch 144/160\n",
            "68/68 [==============================] - 13s 187ms/step - loss: 0.5597 - accuracy: 0.7903 - val_loss: 0.5978 - val_accuracy: 0.7748\n",
            "Epoch 145/160\n",
            "68/68 [==============================] - 12s 181ms/step - loss: 0.5750 - accuracy: 0.7829 - val_loss: 0.6169 - val_accuracy: 0.7659\n",
            "Epoch 146/160\n",
            "68/68 [==============================] - 13s 186ms/step - loss: 0.5529 - accuracy: 0.7926 - val_loss: 0.6070 - val_accuracy: 0.7687\n",
            "Epoch 147/160\n",
            "68/68 [==============================] - 13s 186ms/step - loss: 0.5362 - accuracy: 0.7996 - val_loss: 0.6024 - val_accuracy: 0.7703\n",
            "Epoch 148/160\n",
            "68/68 [==============================] - 13s 185ms/step - loss: 0.5266 - accuracy: 0.8040 - val_loss: 0.6049 - val_accuracy: 0.7753\n",
            "Epoch 149/160\n",
            "68/68 [==============================] - 13s 186ms/step - loss: 0.5224 - accuracy: 0.8057 - val_loss: 0.5994 - val_accuracy: 0.7766\n",
            "Epoch 150/160\n",
            "68/68 [==============================] - 12s 182ms/step - loss: 0.5128 - accuracy: 0.8098 - val_loss: 0.5994 - val_accuracy: 0.7758\n",
            "Epoch 151/160\n",
            "68/68 [==============================] - 13s 186ms/step - loss: 0.5087 - accuracy: 0.8114 - val_loss: 0.5970 - val_accuracy: 0.7760\n",
            "Epoch 152/160\n",
            "68/68 [==============================] - 13s 185ms/step - loss: 0.5003 - accuracy: 0.8148 - val_loss: 0.6234 - val_accuracy: 0.7618\n",
            "Epoch 153/160\n",
            "68/68 [==============================] - 13s 186ms/step - loss: 0.4962 - accuracy: 0.8168 - val_loss: 0.6040 - val_accuracy: 0.7772\n",
            "Epoch 154/160\n",
            "68/68 [==============================] - 13s 186ms/step - loss: 0.4906 - accuracy: 0.8190 - val_loss: 0.6117 - val_accuracy: 0.7733\n",
            "Epoch 155/160\n",
            "68/68 [==============================] - 13s 186ms/step - loss: 0.4851 - accuracy: 0.8215 - val_loss: 0.6066 - val_accuracy: 0.7764\n",
            "Epoch 156/160\n",
            "68/68 [==============================] - 13s 186ms/step - loss: 0.5279 - accuracy: 0.8078 - val_loss: 1.0759 - val_accuracy: 0.6367\n",
            "Epoch 157/160\n",
            "68/68 [==============================] - 13s 185ms/step - loss: 0.7723 - accuracy: 0.6881 - val_loss: 0.6835 - val_accuracy: 0.7255\n",
            "Epoch 158/160\n",
            "68/68 [==============================] - 12s 180ms/step - loss: 0.6755 - accuracy: 0.7349 - val_loss: 0.6878 - val_accuracy: 0.7333\n",
            "Epoch 159/160\n",
            "68/68 [==============================] - 13s 185ms/step - loss: 0.6418 - accuracy: 0.7522 - val_loss: 0.6198 - val_accuracy: 0.7628\n",
            "Epoch 160/160\n",
            "68/68 [==============================] - 12s 181ms/step - loss: 0.6116 - accuracy: 0.7664 - val_loss: 0.6078 - val_accuracy: 0.7667\n"
          ]
        },
        {
          "output_type": "display_data",
          "data": {
            "text/plain": [
              "<Figure size 640x480 with 1 Axes>"
            ],
            "image/png": "[encoded data removed]"
          },
          "metadata": {}
        },
        {
          "output_type": "display_data",
          "data": {
            "text/plain": [
              "<Figure size 640x480 with 1 Axes>"
            ],
            "image/png": "[encoded data removed]"
          },
          "metadata": {}
        },
        {
          "output_type": "stream",
          "name": "stdout",
          "text": [
            "17/17 [==============================] - 1s 61ms/step - loss: 0.6078 - accuracy: 0.7667\n",
            "Accuracy =  76.66807174682617 %\n"
          ]
        }
      ]
    },
    {
      "cell_type": "code",
      "source": [
        "y_pred = model.predict(x_test)\n",
        "flat_y_pred = []\n",
        "flat_y_test = []\n",
        "for (it1, it2) in zip(y_pred, y_test):\n",
        "  for (i1, i2) in zip(it1, it2):\n",
        "    for (j1, j2) in zip(i1, i2):\n",
        "      flat_y_pred.append(np.argmax(j1))\n",
        "      flat_y_test.append(np.argmax(j2))\n",
        "flat_y_pred = np.array(flat_y_pred)\n",
        "flat_y_test = np.array(flat_y_test)\n",
        "print(flat_y_pred.shape, flat_y_test.shape)"
      ],
      "metadata": {
        "colab": {
          "base_uri": "https://localhost:8080/"
        },
        "id": "zGvRfwOq5WV5",
        "outputId": "40daf8c9-e3d3-439a-ffd1-72bd3a740378"
      },
      "execution_count": null,
      "outputs": [
        {
          "output_type": "stream",
          "name": "stdout",
          "text": [
            "17/17 [==============================] - 1s 53ms/step\n",
            "(5400000,) (5400000,)\n"
          ]
        }
      ]
    },
    {
      "cell_type": "code",
      "source": [
        "print(y_pred.shape, y_test.shape)"
      ],
      "metadata": {
        "colab": {
          "base_uri": "https://localhost:8080/"
        },
        "id": "RTGODgdn_q1j",
        "outputId": "850d16a4-5f3e-4229-ffdc-0a7ec69626cd"
      },
      "execution_count": null,
      "outputs": [
        {
          "output_type": "stream",
          "name": "stdout",
          "text": [
            "(540, 100, 100, 9) (540, 100, 100, 9)\n"
          ]
        }
      ]
    },
    {
      "cell_type": "code",
      "source": [
        "from sklearn.metrics import confusion_matrix\n",
        "\n",
        "cm = confusion_matrix(flat_y_test, flat_y_pred)\n",
        "print(cm)"
      ],
      "metadata": {
        "colab": {
          "base_uri": "https://localhost:8080/"
        },
        "id": "fr3hE2zx8015",
        "outputId": "60c3f10b-fcde-4e1d-caf9-232ea265ab6d"
      },
      "execution_count": null,
      "outputs": [
        {
          "output_type": "stream",
          "name": "stdout",
          "text": [
            "[[1915113     856    3933       0       0    6346   71062    3071       0]\n",
            " [   1688   18140    1663       0       0    4877    5647    5267       0]\n",
            " [  28092    1435    7579       1       0    8210   34191   20221       0]\n",
            " [    213       1      99       0       0       0     173      85       0]\n",
            " [      0       2       1       0       0       2       0       0       0]\n",
            " [  18841     708    1520       0       0  506933   97848   73087       0]\n",
            " [  56406     316    2821       0       0   94079  939696  269854       0]\n",
            " [  14359      92    1898       0       0   64401  339268  752615       1]\n",
            " [   1689      92     118       0       0    9748    9977    5665       0]]\n"
          ]
        }
      ]
    },
    {
      "cell_type": "code",
      "source": [
        "from sklearn.metrics import classification_report\n",
        "\n",
        "cr = classification_report(flat_y_test, flat_y_pred)\n",
        "print(cr)"
      ],
      "metadata": {
        "colab": {
          "base_uri": "https://localhost:8080/"
        },
        "id": "CJNO96fm81EL",
        "outputId": "e5393258-c8e4-43b0-eaeb-5a4734231062"
      },
      "execution_count": null,
      "outputs": [
        {
          "output_type": "stream",
          "name": "stderr",
          "text": [
            "/usr/local/lib/python3.10/dist-packages/sklearn/metrics/_classification.py:1344: UndefinedMetricWarning: Precision and F-score are ill-defined and being set to 0.0 in labels with no predicted samples. Use `zero_division` parameter to control this behavior.\n",
            "  _warn_prf(average, modifier, msg_start, len(result))\n",
            "/usr/local/lib/python3.10/dist-packages/sklearn/metrics/_classification.py:1344: UndefinedMetricWarning: Precision and F-score are ill-defined and being set to 0.0 in labels with no predicted samples. Use `zero_division` parameter to control this behavior.\n",
            "  _warn_prf(average, modifier, msg_start, len(result))\n"
          ]
        },
        {
          "output_type": "stream",
          "name": "stdout",
          "text": [
            "              precision    recall  f1-score   support\n",
            "\n",
            "           0       0.94      0.96      0.95   2000381\n",
            "           1       0.84      0.49      0.62     37282\n",
            "           2       0.39      0.08      0.13     99729\n",
            "           3       0.00      0.00      0.00       571\n",
            "           4       0.00      0.00      0.00         5\n",
            "           5       0.73      0.73      0.73    698937\n",
            "           6       0.63      0.69      0.66   1363172\n",
            "           7       0.67      0.64      0.65   1172634\n",
            "           8       0.00      0.00      0.00     27289\n",
            "\n",
            "    accuracy                           0.77   5400000\n",
            "   macro avg       0.47      0.40      0.41   5400000\n",
            "weighted avg       0.76      0.77      0.76   5400000\n",
            "\n"
          ]
        },
        {
          "output_type": "stream",
          "name": "stderr",
          "text": [
            "/usr/local/lib/python3.10/dist-packages/sklearn/metrics/_classification.py:1344: UndefinedMetricWarning: Precision and F-score are ill-defined and being set to 0.0 in labels with no predicted samples. Use `zero_division` parameter to control this behavior.\n",
            "  _warn_prf(average, modifier, msg_start, len(result))\n"
          ]
        }
      ]
    },
    {
      "cell_type": "code",
      "source": [
        "model.save(\"the_model\")"
      ],
      "metadata": {
        "colab": {
          "base_uri": "https://localhost:8080/"
        },
        "id": "bgpRqiVRen8J",
        "outputId": "01ce4e42-4bda-443b-8749-2dbf5f138949"
      },
      "execution_count": null,
      "outputs": [
        {
          "output_type": "stream",
          "name": "stderr",
          "text": [
            "WARNING:absl:Found untraced functions such as _jit_compiled_convolution_op, _jit_compiled_convolution_op, _jit_compiled_convolution_op, _jit_compiled_convolution_op, _jit_compiled_convolution_op while saving (showing 5 of 13). These functions will not be directly callable after loading.\n"
          ]
        }
      ]
    },
    {
      "cell_type": "code",
      "source": [
        "!zip -r the_model.zip the_model"
      ],
      "metadata": {
        "colab": {
          "base_uri": "https://localhost:8080/"
        },
        "id": "Q2mgHoyrtpkM",
        "outputId": "eb66502e-b390-4d7b-f957-29752d7937bb"
      },
      "execution_count": null,
      "outputs": [
        {
          "output_type": "stream",
          "name": "stdout",
          "text": [
            "  adding: the_model/ (stored 0%)\n",
            "  adding: the_model/assets/ (stored 0%)\n",
            "  adding: the_model/saved_model.pb (deflated 89%)\n",
            "  adding: the_model/fingerprint.pb (stored 0%)\n",
            "  adding: the_model/variables/ (stored 0%)\n",
            "  adding: the_model/variables/variables.index (deflated 71%)\n",
            "  adding: the_model/variables/variables.data-00000-of-00001 (deflated 9%)\n",
            "  adding: the_model/keras_metadata.pb (deflated 94%)\n"
          ]
        }
      ]
    },
    {
      "cell_type": "code",
      "source": [
        "from google.colab import files\n",
        "files.download(\"/content/the_model.zip\")"
      ],
      "metadata": {
        "colab": {
          "base_uri": "https://localhost:8080/",
          "height": 17
        },
        "id": "tNOZIczhtxQ5",
        "outputId": "99052592-5270-4e29-d3a8-76d10e5f2781"
      },
      "execution_count": null,
      "outputs": [
        {
          "output_type": "display_data",
          "data": {
            "text/plain": [
              "<IPython.core.display.Javascript object>"
            ],
            "application/javascript": [
              "\n",
              "    async function download(id, filename, size) {\n",
              "      if (!google.colab.kernel.accessAllowed) {\n",
              "        return;\n",
              "      }\n",
              "      const div = document.createElement('div');\n",
              "      const label = document.createElement('label');\n",
              "      label.textContent = `Downloading \"${filename}\": `;\n",
              "      div.appendChild(label);\n",
              "      const progress = document.createElement('progress');\n",
              "      progress.max = size;\n",
              "      div.appendChild(progress);\n",
              "      document.body.appendChild(div);\n",
              "\n",
              "      const buffers = [];\n",
              "      let downloaded = 0;\n",
              "\n",
              "      const channel = await google.colab.kernel.comms.open(id);\n",
              "      // Send a message to notify the kernel that we're ready.\n",
              "      channel.send({})\n",
              "\n",
              "      for await (const message of channel.messages) {\n",
              "        // Send a message to notify the kernel that we're ready.\n",
              "        channel.send({})\n",
              "        if (message.buffers) {\n",
              "          for (const buffer of message.buffers) {\n",
              "            buffers.push(buffer);\n",
              "            downloaded += buffer.byteLength;\n",
              "            progress.value = downloaded;\n",
              "          }\n",
              "        }\n",
              "      }\n",
              "      const blob = new Blob(buffers, {type: 'application/binary'});\n",
              "      const a = document.createElement('a');\n",
              "      a.href = window.URL.createObjectURL(blob);\n",
              "      a.download = filename;\n",
              "      div.appendChild(a);\n",
              "      a.click();\n",
              "      div.remove();\n",
              "    }\n",
              "  "
            ]
          },
          "metadata": {}
        },
        {
          "output_type": "display_data",
          "data": {
            "text/plain": [
              "<IPython.core.display.Javascript object>"
            ],
            "application/javascript": [
              "download(\"download_5fe6a0c1-445b-403e-9eb2-b75c2f413f96\", \"the_model.zip\", 20569942)"
            ]
          },
          "metadata": {}
        }
      ]
    }
  ]
}